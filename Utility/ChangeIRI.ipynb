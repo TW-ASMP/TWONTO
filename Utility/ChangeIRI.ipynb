{
 "cells": [
  {
   "cell_type": "markdown",
   "metadata": {},
   "source": [
    "# Change IRI's to numbers\n",
    "The following script will go through an .ttl file and change any class IRI to a 5 digit number starting from one. The original IRI name is than saved as an rdfs label. "
   ]
  },
  {
   "cell_type": "code",
   "execution_count": 3,
   "metadata": {},
   "outputs": [],
   "source": [
    "import os as os\n",
    "import re\n",
    "\n",
    "class_mapping = {}\n",
    "new_list = []\n",
    "final = []\n",
    "number = 1\n",
    "\n",
    "# Opens the read ttl file and the write ttl file\n",
    "with open(\"../OWL/TWONTO.ttl\", \"r\", encoding=\"utf8\") as infile, \\\n",
    "     open(\"../Utility/test.ttl\", \"w\", encoding=\"utf8\") as outfile:\n",
    "    lines = infile.readlines()\n",
    "\n",
    "# Loops through each line in the text file and looks for the definitions of classes\n",
    "# It than captures the name of the class and replaces it with a 5 digit number\n",
    "    for line in lines:\n",
    "        if \" rdf:type owl:Class ;\" in line:\n",
    "            name = line.replace(\" rdf:type owl:Class ;\", \"\")[1:].strip()\n",
    "            name = name.lower()\n",
    "            number = str(number).zfill(5)\n",
    "            line = \":\" + number + \" rdf:type owl:Class ;\"\n",
    "            line += '\\n\\t\\t\\t\\t   rdfs:label \"' + name.replace(\"\\n\", \"\") + '\" ;\\n'\n",
    "            class_mapping[name] = number\n",
    "            number = int(number) + 1\n",
    "\n",
    "#There are two seperate loops for the case were the class is defined on a single line and has no additional properties\n",
    "        elif \" rdf:type owl:Class .\" in line:\n",
    "            name = line.replace(\" rdf:type owl:Class .\", \"\")[1:].strip()\n",
    "            name = name.lower()\n",
    "            number = str(number).zfill(5)\n",
    "            line = \":\" + number + \" rdf:type owl:Class ;\"\n",
    "            line += '\\n\\t\\t\\t\\t   rdfs:label \"' + name.replace(\"\\n\", \"\") + '\" .\\n'\n",
    "            class_mapping[name] = number\n",
    "            number = int(number) + 1\n",
    "\n",
    "#The looped through line is than added to a list        \n",
    "        new_list.append(line)  \n",
    "\n",
    "#The new list with the classes names, which have been replaced in thier definitions, is looped through. \n",
    "#Additional instances were the classes names are mentioned are replaced such as the case of a subclass definition\n",
    "    for line in new_list:\n",
    "\n",
    "#Loops through a dictionary of the class names and thier new numbers\n",
    "        for name, number in class_mapping.items():\n",
    "\n",
    "#Regular expresions are used rather than a replace, it is much slower but doesn't produce a bunch of errors which can happen when some class names or subsets of other class names\n",
    "            line = re.sub(\"(?i):\" + name + \"[\\s\\n]\", \":\" + str(number).zfill(5) + \" \", line)\n",
    "        final.append(line)\n",
    "\n",
    "#The final list is than written to the output file\n",
    "    outfile.writelines(final)"
   ]
  }
 ],
 "metadata": {
  "kernelspec": {
   "display_name": "Python 3",
   "language": "python",
   "name": "python3"
  },
  "language_info": {
   "codemirror_mode": {
    "name": "ipython",
    "version": 3
   },
   "file_extension": ".py",
   "mimetype": "text/x-python",
   "name": "python",
   "nbconvert_exporter": "python",
   "pygments_lexer": "ipython3",
   "version": "3.12.2"
  }
 },
 "nbformat": 4,
 "nbformat_minor": 2
}
