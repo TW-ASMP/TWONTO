{
 "cells": [
  {
   "cell_type": "markdown",
   "metadata": {},
   "source": [
    "# Change IRI's to numbers\n",
    "The following script will go through an .ttl file and change any class IRI to a 5 digit number starting from one. The original IRI name is than saved as an rdfs label. "
   ]
  },
  {
   "cell_type": "code",
   "execution_count": 5,
   "metadata": {},
   "outputs": [
    {
     "ename": "FileNotFoundError",
     "evalue": "[Errno 2] No such file or directory: 'OWL\\\\TWONTO.ttl'",
     "output_type": "error",
     "traceback": [
      "\u001b[1;31m---------------------------------------------------------------------------\u001b[0m",
      "\u001b[1;31mFileNotFoundError\u001b[0m                         Traceback (most recent call last)",
      "Cell \u001b[1;32mIn[5], line 11\u001b[0m\n\u001b[0;32m      8\u001b[0m os\u001b[38;5;241m.\u001b[39mchdir(\u001b[38;5;124m\"\u001b[39m\u001b[38;5;124m..\u001b[39m\u001b[38;5;124m\"\u001b[39m)\n\u001b[0;32m     10\u001b[0m \u001b[38;5;66;03m# Opens the read ttl file and the write ttl file\u001b[39;00m\n\u001b[1;32m---> 11\u001b[0m \u001b[38;5;28;01mwith\u001b[39;00m \u001b[38;5;28;43mopen\u001b[39;49m\u001b[43m(\u001b[49m\u001b[38;5;124;43mr\u001b[39;49m\u001b[38;5;124;43m\"\u001b[39;49m\u001b[38;5;124;43mOWL\u001b[39;49m\u001b[38;5;124;43m\\\u001b[39;49m\u001b[38;5;124;43mTWONTO.ttl\u001b[39;49m\u001b[38;5;124;43m\"\u001b[39;49m\u001b[43m,\u001b[49m\u001b[43m \u001b[49m\u001b[38;5;124;43m\"\u001b[39;49m\u001b[38;5;124;43mr\u001b[39;49m\u001b[38;5;124;43m\"\u001b[39;49m\u001b[43m,\u001b[49m\u001b[43m \u001b[49m\u001b[43mencoding\u001b[49m\u001b[38;5;241;43m=\u001b[39;49m\u001b[38;5;124;43m\"\u001b[39;49m\u001b[38;5;124;43mutf8\u001b[39;49m\u001b[38;5;124;43m\"\u001b[39;49m\u001b[43m)\u001b[49m \u001b[38;5;28;01mas\u001b[39;00m infile, \\\n\u001b[0;32m     12\u001b[0m      \u001b[38;5;28mopen\u001b[39m(\u001b[38;5;124m\"\u001b[39m\u001b[38;5;124mtest.ttl\u001b[39m\u001b[38;5;124m\"\u001b[39m, \u001b[38;5;124m\"\u001b[39m\u001b[38;5;124mw\u001b[39m\u001b[38;5;124m\"\u001b[39m, encoding\u001b[38;5;241m=\u001b[39m\u001b[38;5;124m\"\u001b[39m\u001b[38;5;124mutf8\u001b[39m\u001b[38;5;124m\"\u001b[39m) \u001b[38;5;28;01mas\u001b[39;00m outfile:\n\u001b[0;32m     13\u001b[0m     lines \u001b[38;5;241m=\u001b[39m infile\u001b[38;5;241m.\u001b[39mreadlines()\n\u001b[0;32m     15\u001b[0m \u001b[38;5;66;03m# Loops through each line in the text file and looks for the definitions of classes\u001b[39;00m\n\u001b[0;32m     16\u001b[0m \u001b[38;5;66;03m# It than captures the name of the class and replaces it with a 5 digit number\u001b[39;00m\n",
      "File \u001b[1;32m~\\AppData\\Roaming\\Python\\Python312\\site-packages\\IPython\\core\\interactiveshell.py:324\u001b[0m, in \u001b[0;36m_modified_open\u001b[1;34m(file, *args, **kwargs)\u001b[0m\n\u001b[0;32m    317\u001b[0m \u001b[38;5;28;01mif\u001b[39;00m file \u001b[38;5;129;01min\u001b[39;00m {\u001b[38;5;241m0\u001b[39m, \u001b[38;5;241m1\u001b[39m, \u001b[38;5;241m2\u001b[39m}:\n\u001b[0;32m    318\u001b[0m     \u001b[38;5;28;01mraise\u001b[39;00m \u001b[38;5;167;01mValueError\u001b[39;00m(\n\u001b[0;32m    319\u001b[0m         \u001b[38;5;124mf\u001b[39m\u001b[38;5;124m\"\u001b[39m\u001b[38;5;124mIPython won\u001b[39m\u001b[38;5;124m'\u001b[39m\u001b[38;5;124mt let you open fd=\u001b[39m\u001b[38;5;132;01m{\u001b[39;00mfile\u001b[38;5;132;01m}\u001b[39;00m\u001b[38;5;124m by default \u001b[39m\u001b[38;5;124m\"\u001b[39m\n\u001b[0;32m    320\u001b[0m         \u001b[38;5;124m\"\u001b[39m\u001b[38;5;124mas it is likely to crash IPython. If you know what you are doing, \u001b[39m\u001b[38;5;124m\"\u001b[39m\n\u001b[0;32m    321\u001b[0m         \u001b[38;5;124m\"\u001b[39m\u001b[38;5;124myou can use builtins\u001b[39m\u001b[38;5;124m'\u001b[39m\u001b[38;5;124m open.\u001b[39m\u001b[38;5;124m\"\u001b[39m\n\u001b[0;32m    322\u001b[0m     )\n\u001b[1;32m--> 324\u001b[0m \u001b[38;5;28;01mreturn\u001b[39;00m \u001b[43mio_open\u001b[49m\u001b[43m(\u001b[49m\u001b[43mfile\u001b[49m\u001b[43m,\u001b[49m\u001b[43m \u001b[49m\u001b[38;5;241;43m*\u001b[39;49m\u001b[43margs\u001b[49m\u001b[43m,\u001b[49m\u001b[43m \u001b[49m\u001b[38;5;241;43m*\u001b[39;49m\u001b[38;5;241;43m*\u001b[39;49m\u001b[43mkwargs\u001b[49m\u001b[43m)\u001b[49m\n",
      "\u001b[1;31mFileNotFoundError\u001b[0m: [Errno 2] No such file or directory: 'OWL\\\\TWONTO.ttl'"
     ]
    }
   ],
   "source": [
    "import os as os\n",
    "import re\n",
    "\n",
    "class_mapping = {}\n",
    "new_list = []\n",
    "final = []\n",
    "number = 1\n",
    "\n",
    "# Opens the read ttl file and the write ttl file\n",
    "with open(\"../OWL/TWONTO.ttl\", \"r\", encoding=\"utf8\") as infile, \\\n",
    "     open(\"../Utility/test.ttl\", \"w\", encoding=\"utf8\") as outfile:\n",
    "    lines = infile.readlines()\n",
    "\n",
    "# Loops through each line in the text file and looks for the definitions of classes\n",
    "# It than captures the name of the class and replaces it with a 5 digit number\n",
    "    for line in lines:\n",
    "        if \" rdf:type owl:Class ;\" in line:\n",
    "            name = line.replace(\" rdf:type owl:Class ;\", \"\")[1:].strip()\n",
    "            name = name.lower()\n",
    "            number = str(number).zfill(5)\n",
    "            line = \":\" + number + \" rdf:type owl:Class ;\"\n",
    "            line += '\\n\\t\\t\\t\\t   rdfs:label \"' + name.replace(\"\\n\", \"\") + '\" ;\\n'\n",
    "            class_mapping[name] = number\n",
    "            number = int(number) + 1\n",
    "\n",
    "#There are two seperate loops for the case were the class is defined on a single line and has no additional properties\n",
    "        elif \" rdf:type owl:Class .\" in line:\n",
    "            name = line.replace(\" rdf:type owl:Class .\", \"\")[1:].strip()\n",
    "            name = name.lower()\n",
    "            number = str(number).zfill(5)\n",
    "            line = \":\" + number + \" rdf:type owl:Class ;\"\n",
    "            line += '\\n\\t\\t\\t\\t   rdfs:label \"' + name.replace(\"\\n\", \"\") + '\" .\\n'\n",
    "            class_mapping[name] = number\n",
    "            number = int(number) + 1\n",
    "\n",
    "#The looped through line is than added to a list        \n",
    "        new_list.append(line)  \n",
    "\n",
    "#The new list with the classes names, which have been replaced in thier definitions, is looped through. \n",
    "#Additional instances were the classes names are mentioned are replaced such as the case of a subclass definition\n",
    "    for line in new_list:\n",
    "\n",
    "#Loops through a dictionary of the class names and thier new numbers\n",
    "        for name, number in class_mapping.items():\n",
    "\n",
    "#Regular expresions are used rather than a replace, it is much slower but doesn't produce a bunch of errors which can happen when some class names or subsets of other class names\n",
    "            line = re.sub(\"(?i):\" + name + \"[\\s\\n]\", \":\" + str(number).zfill(5) + \" \", line)\n",
    "        final.append(line)\n",
    "\n",
    "#The final list is than written to the output file\n",
    "    outfile.writelines(final)"
   ]
  }
 ],
 "metadata": {
  "kernelspec": {
   "display_name": "Python 3",
   "language": "python",
   "name": "python3"
  },
  "language_info": {
   "codemirror_mode": {
    "name": "ipython",
    "version": 3
   },
   "file_extension": ".py",
   "mimetype": "text/x-python",
   "name": "python",
   "nbconvert_exporter": "python",
   "pygments_lexer": "ipython3",
   "version": "3.12.2"
  }
 },
 "nbformat": 4,
 "nbformat_minor": 2
}
