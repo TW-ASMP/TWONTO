{
 "cells": [
  {
   "cell_type": "markdown",
   "metadata": {},
   "source": []
  },
  {
   "cell_type": "markdown",
   "metadata": {},
   "source": [
    "**Prompt used to generate the code**: I have a CSV file that contains a list of names written camel case. This list is in the first column, and there is no other content in the CSV.  Please create a Python script that takes the CSV as input, converts all the names to snake case, and writes the converted names back into the second column of the CSV."
   ]
  },
  {
   "cell_type": "markdown",
   "metadata": {},
   "source": []
  },
  {
   "cell_type": "markdown",
   "metadata": {},
   "source": []
  },
  {
   "cell_type": "markdown",
   "metadata": {},
   "source": [
    "The following does the same as the above, except that it also preserve the capitalization of acronyms"
   ]
  },
  {
   "cell_type": "code",
   "execution_count": 4,
   "metadata": {},
   "outputs": [],
   "source": [
    "import csv\n",
    "import re\n",
    "\n",
    "def camel_to_snake(name):\n",
    "    s1 = re.sub('(.)([A-Z][a-z]+)', r'\\1_\\2', name)\n",
    "    s2 = re.sub('([a-z0-9])([A-Z])', r'\\1_\\2', s1)\n",
    "    return s2.replace(\"__\", \"_\").lower()  # Adjusting to avoid double underscores and convert to lowercase\n",
    "\n",
    "def convert_csv(input_file, output_file):\n",
    "    with open(input_file, 'r', newline='') as csvfile:\n",
    "        reader = csv.reader(csvfile)\n",
    "        rows = [row for row in reader]\n",
    "\n",
    "    for row in rows:\n",
    "        if row:\n",
    "            camel_case_name = row[0]\n",
    "            snake_case_name = camel_to_snake(camel_case_name)\n",
    "            row.append(snake_case_name)\n",
    "\n",
    "    with open(output_file, 'w', newline='') as csvfile:\n",
    "        writer = csv.writer(csvfile)\n",
    "        writer.writerows(rows)\n",
    "\n",
    "# Example usage\n",
    "input_file = r\"C:\\Users\\thuang4\\Downloads\\camelToSnake.csv\"  # Raw string to handle backslashes\n",
    "output_file = r\"C:\\Users\\thuang4\\Downloads\\camelToSnake2.csv\"  # Raw string to handle backslashes\n",
    "\n",
    "convert_csv(input_file, output_file)\n"
   ]
  },
  {
   "cell_type": "markdown",
   "metadata": {},
   "source": [
    "**Prompt used to generate the code**: please generate another piece of Python script that opens a CSV file (the output of the last script) and another text file.  The script performs a set of search-and-replace operations on the text file, searching for all instances of each name in the first column and replacing them with the name in the second column of the CSV."
   ]
  },
  {
   "cell_type": "code",
   "execution_count": null,
   "metadata": {},
   "outputs": [],
   "source": [
    "def replace_names_in_text(csv_file, text_file, output_file):\n",
    "    # Read the CSV file and create a dictionary for replacements\n",
    "    replacements = {}\n",
    "    with open(csv_file, 'r', newline='') as csvfile:\n",
    "        reader = csv.reader(csvfile)\n",
    "        for row in reader:\n",
    "            if len(row) >= 2:\n",
    "                camel_case_name = row[0]\n",
    "                snake_case_name = row[1]\n",
    "                replacements[camel_case_name] = snake_case_name\n",
    "\n",
    "    # Read the text file content\n",
    "    with open(text_file, 'r') as file:\n",
    "        content = file.read()\n",
    "\n",
    "    # Perform the replacements\n",
    "    for camel_case_name, snake_case_name in replacements.items():\n",
    "        content = re.sub(r'\\b' + re.escape(camel_case_name) + r'\\b', snake_case_name, content)\n",
    "\n",
    "    # Write the modified content to the output file\n",
    "    with open(output_file, 'w') as file:\n",
    "        file.write(content)\n",
    "\n",
    "# Example usage\n",
    "csv_file = r\"C:\\Users\\thuang4\\Downloads\\camelToSnake2.csv\"  # Replace with the path to your output CSV file\n",
    "text_file = r\"C:\\Users\\thuang4\\Git\\TWONTO\\OWL\\TWONTO.ofn\"  # Path to the provided text file\n",
    "output_file = r\"C:\\Users\\thuang4\\Git\\TWONTO\\OWL\\TWONTO_modified.ofn\"  # Path to save the modified text file\n",
    "\n",
    "replace_names_in_text(csv_file, text_file, output_file)"
   ]
  }
 ],
 "metadata": {
  "kernelspec": {
   "display_name": "Python 3 (ipykernel)",
   "language": "python",
   "name": "python3"
  },
  "language_info": {
   "codemirror_mode": {
    "name": "ipython",
    "version": 3
   },
   "file_extension": ".py",
   "mimetype": "text/x-python",
   "name": "python",
   "nbconvert_exporter": "python",
   "pygments_lexer": "ipython3",
   "version": "3.11.5"
  }
 },
 "nbformat": 4,
 "nbformat_minor": 2
}
